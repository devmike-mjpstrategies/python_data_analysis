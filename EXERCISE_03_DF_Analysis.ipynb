{
 "cells": [
  {
   "metadata": {},
   "id": "04b3f624",
   "cell_type": "markdown",
   "source": "# DataFrame Analysis Exercise\n\n## Import the `bestsellers.csv` dataset and use it to answer the following questions:"
  },
  {
   "metadata": {
    "trusted": true
   },
   "id": "229e9667",
   "cell_type": "code",
   "source": "import pandas as pd\nbestsellers = pd.read_csv(\"../DATA/bestsellers.csv\")",
   "execution_count": 1,
   "outputs": [
    {
     "output_type": "error",
     "ename": "FileNotFoundError",
     "evalue": "[Errno 2] No such file or directory: '../DATA/bestsellers.csv'",
     "traceback": [
      "\u001b[0;31m---------------------------------------------------------------------------\u001b[0m",
      "\u001b[0;31mFileNotFoundError\u001b[0m                         Traceback (most recent call last)",
      "\u001b[0;32m<ipython-input-1-dedfdd4c2a1c>\u001b[0m in \u001b[0;36m<module>\u001b[0;34m\u001b[0m\n\u001b[1;32m      1\u001b[0m \u001b[0;32mimport\u001b[0m \u001b[0mpandas\u001b[0m \u001b[0;32mas\u001b[0m \u001b[0mpd\u001b[0m\u001b[0;34m\u001b[0m\u001b[0;34m\u001b[0m\u001b[0m\n\u001b[0;32m----> 2\u001b[0;31m \u001b[0mbestsellers\u001b[0m \u001b[0;34m=\u001b[0m \u001b[0mpd\u001b[0m\u001b[0;34m.\u001b[0m\u001b[0mread_csv\u001b[0m\u001b[0;34m(\u001b[0m\u001b[0;34m\"../DATA/bestsellers.csv\"\u001b[0m\u001b[0;34m)\u001b[0m\u001b[0;34m\u001b[0m\u001b[0;34m\u001b[0m\u001b[0m\n\u001b[0m",
      "\u001b[0;32m/private/var/containers/Bundle/Application/0FF589E7-F110-405A-A17B-B455DBB3F315/Juno.app/pinned-packages/pandas/util/_decorators.py\u001b[0m in \u001b[0;36mwrapper\u001b[0;34m(*args, **kwargs)\u001b[0m\n\u001b[1;32m    209\u001b[0m                 \u001b[0;32melse\u001b[0m\u001b[0;34m:\u001b[0m\u001b[0;34m\u001b[0m\u001b[0;34m\u001b[0m\u001b[0m\n\u001b[1;32m    210\u001b[0m                     \u001b[0mkwargs\u001b[0m\u001b[0;34m[\u001b[0m\u001b[0mnew_arg_name\u001b[0m\u001b[0;34m]\u001b[0m \u001b[0;34m=\u001b[0m \u001b[0mnew_arg_value\u001b[0m\u001b[0;34m\u001b[0m\u001b[0;34m\u001b[0m\u001b[0m\n\u001b[0;32m--> 211\u001b[0;31m             \u001b[0;32mreturn\u001b[0m \u001b[0mfunc\u001b[0m\u001b[0;34m(\u001b[0m\u001b[0;34m*\u001b[0m\u001b[0margs\u001b[0m\u001b[0;34m,\u001b[0m \u001b[0;34m**\u001b[0m\u001b[0mkwargs\u001b[0m\u001b[0;34m)\u001b[0m\u001b[0;34m\u001b[0m\u001b[0;34m\u001b[0m\u001b[0m\n\u001b[0m\u001b[1;32m    212\u001b[0m \u001b[0;34m\u001b[0m\u001b[0m\n\u001b[1;32m    213\u001b[0m         \u001b[0;32mreturn\u001b[0m \u001b[0mcast\u001b[0m\u001b[0;34m(\u001b[0m\u001b[0mF\u001b[0m\u001b[0;34m,\u001b[0m \u001b[0mwrapper\u001b[0m\u001b[0;34m)\u001b[0m\u001b[0;34m\u001b[0m\u001b[0;34m\u001b[0m\u001b[0m\n",
      "\u001b[0;32m/private/var/containers/Bundle/Application/0FF589E7-F110-405A-A17B-B455DBB3F315/Juno.app/pinned-packages/pandas/util/_decorators.py\u001b[0m in \u001b[0;36mwrapper\u001b[0;34m(*args, **kwargs)\u001b[0m\n\u001b[1;32m    329\u001b[0m                     \u001b[0mstacklevel\u001b[0m\u001b[0;34m=\u001b[0m\u001b[0mfind_stack_level\u001b[0m\u001b[0;34m(\u001b[0m\u001b[0;34m)\u001b[0m\u001b[0;34m,\u001b[0m\u001b[0;34m\u001b[0m\u001b[0;34m\u001b[0m\u001b[0m\n\u001b[1;32m    330\u001b[0m                 )\n\u001b[0;32m--> 331\u001b[0;31m             \u001b[0;32mreturn\u001b[0m \u001b[0mfunc\u001b[0m\u001b[0;34m(\u001b[0m\u001b[0;34m*\u001b[0m\u001b[0margs\u001b[0m\u001b[0;34m,\u001b[0m \u001b[0;34m**\u001b[0m\u001b[0mkwargs\u001b[0m\u001b[0;34m)\u001b[0m\u001b[0;34m\u001b[0m\u001b[0;34m\u001b[0m\u001b[0m\n\u001b[0m\u001b[1;32m    332\u001b[0m \u001b[0;34m\u001b[0m\u001b[0m\n\u001b[1;32m    333\u001b[0m         \u001b[0;31m# error: \"Callable[[VarArg(Any), KwArg(Any)], Any]\" has no\u001b[0m\u001b[0;34m\u001b[0m\u001b[0;34m\u001b[0m\u001b[0m\n",
      "\u001b[0;32m/private/var/containers/Bundle/Application/0FF589E7-F110-405A-A17B-B455DBB3F315/Juno.app/pinned-packages/pandas/io/parsers/readers.py\u001b[0m in \u001b[0;36mread_csv\u001b[0;34m(filepath_or_buffer, sep, delimiter, header, names, index_col, usecols, squeeze, prefix, mangle_dupe_cols, dtype, engine, converters, true_values, false_values, skipinitialspace, skiprows, skipfooter, nrows, na_values, keep_default_na, na_filter, verbose, skip_blank_lines, parse_dates, infer_datetime_format, keep_date_col, date_parser, dayfirst, cache_dates, iterator, chunksize, compression, thousands, decimal, lineterminator, quotechar, quoting, doublequote, escapechar, comment, encoding, encoding_errors, dialect, error_bad_lines, warn_bad_lines, on_bad_lines, delim_whitespace, low_memory, memory_map, float_precision, storage_options)\u001b[0m\n\u001b[1;32m    948\u001b[0m     \u001b[0mkwds\u001b[0m\u001b[0;34m.\u001b[0m\u001b[0mupdate\u001b[0m\u001b[0;34m(\u001b[0m\u001b[0mkwds_defaults\u001b[0m\u001b[0;34m)\u001b[0m\u001b[0;34m\u001b[0m\u001b[0;34m\u001b[0m\u001b[0m\n\u001b[1;32m    949\u001b[0m \u001b[0;34m\u001b[0m\u001b[0m\n\u001b[0;32m--> 950\u001b[0;31m     \u001b[0;32mreturn\u001b[0m \u001b[0m_read\u001b[0m\u001b[0;34m(\u001b[0m\u001b[0mfilepath_or_buffer\u001b[0m\u001b[0;34m,\u001b[0m \u001b[0mkwds\u001b[0m\u001b[0;34m)\u001b[0m\u001b[0;34m\u001b[0m\u001b[0;34m\u001b[0m\u001b[0m\n\u001b[0m\u001b[1;32m    951\u001b[0m \u001b[0;34m\u001b[0m\u001b[0m\n\u001b[1;32m    952\u001b[0m \u001b[0;34m\u001b[0m\u001b[0m\n",
      "\u001b[0;32m/private/var/containers/Bundle/Application/0FF589E7-F110-405A-A17B-B455DBB3F315/Juno.app/pinned-packages/pandas/io/parsers/readers.py\u001b[0m in \u001b[0;36m_read\u001b[0;34m(filepath_or_buffer, kwds)\u001b[0m\n\u001b[1;32m    603\u001b[0m \u001b[0;34m\u001b[0m\u001b[0m\n\u001b[1;32m    604\u001b[0m     \u001b[0;31m# Create the parser.\u001b[0m\u001b[0;34m\u001b[0m\u001b[0;34m\u001b[0m\u001b[0m\n\u001b[0;32m--> 605\u001b[0;31m     \u001b[0mparser\u001b[0m \u001b[0;34m=\u001b[0m \u001b[0mTextFileReader\u001b[0m\u001b[0;34m(\u001b[0m\u001b[0mfilepath_or_buffer\u001b[0m\u001b[0;34m,\u001b[0m \u001b[0;34m**\u001b[0m\u001b[0mkwds\u001b[0m\u001b[0;34m)\u001b[0m\u001b[0;34m\u001b[0m\u001b[0;34m\u001b[0m\u001b[0m\n\u001b[0m\u001b[1;32m    606\u001b[0m \u001b[0;34m\u001b[0m\u001b[0m\n\u001b[1;32m    607\u001b[0m     \u001b[0;32mif\u001b[0m \u001b[0mchunksize\u001b[0m \u001b[0;32mor\u001b[0m \u001b[0miterator\u001b[0m\u001b[0;34m:\u001b[0m\u001b[0;34m\u001b[0m\u001b[0;34m\u001b[0m\u001b[0m\n",
      "\u001b[0;32m/private/var/containers/Bundle/Application/0FF589E7-F110-405A-A17B-B455DBB3F315/Juno.app/pinned-packages/pandas/io/parsers/readers.py\u001b[0m in \u001b[0;36m__init__\u001b[0;34m(self, f, engine, **kwds)\u001b[0m\n\u001b[1;32m   1440\u001b[0m \u001b[0;34m\u001b[0m\u001b[0m\n\u001b[1;32m   1441\u001b[0m         \u001b[0mself\u001b[0m\u001b[0;34m.\u001b[0m\u001b[0mhandles\u001b[0m\u001b[0;34m:\u001b[0m \u001b[0mIOHandles\u001b[0m \u001b[0;34m|\u001b[0m \u001b[0;32mNone\u001b[0m \u001b[0;34m=\u001b[0m \u001b[0;32mNone\u001b[0m\u001b[0;34m\u001b[0m\u001b[0;34m\u001b[0m\u001b[0m\n\u001b[0;32m-> 1442\u001b[0;31m         \u001b[0mself\u001b[0m\u001b[0;34m.\u001b[0m\u001b[0m_engine\u001b[0m \u001b[0;34m=\u001b[0m \u001b[0mself\u001b[0m\u001b[0;34m.\u001b[0m\u001b[0m_make_engine\u001b[0m\u001b[0;34m(\u001b[0m\u001b[0mf\u001b[0m\u001b[0;34m,\u001b[0m \u001b[0mself\u001b[0m\u001b[0;34m.\u001b[0m\u001b[0mengine\u001b[0m\u001b[0;34m)\u001b[0m\u001b[0;34m\u001b[0m\u001b[0;34m\u001b[0m\u001b[0m\n\u001b[0m\u001b[1;32m   1443\u001b[0m \u001b[0;34m\u001b[0m\u001b[0m\n\u001b[1;32m   1444\u001b[0m     \u001b[0;32mdef\u001b[0m \u001b[0mclose\u001b[0m\u001b[0;34m(\u001b[0m\u001b[0mself\u001b[0m\u001b[0;34m)\u001b[0m \u001b[0;34m->\u001b[0m \u001b[0;32mNone\u001b[0m\u001b[0;34m:\u001b[0m\u001b[0;34m\u001b[0m\u001b[0;34m\u001b[0m\u001b[0m\n",
      "\u001b[0;32m/private/var/containers/Bundle/Application/0FF589E7-F110-405A-A17B-B455DBB3F315/Juno.app/pinned-packages/pandas/io/parsers/readers.py\u001b[0m in \u001b[0;36m_make_engine\u001b[0;34m(self, f, engine)\u001b[0m\n\u001b[1;32m   1733\u001b[0m                 \u001b[0;32mif\u001b[0m \u001b[0;34m\"b\"\u001b[0m \u001b[0;32mnot\u001b[0m \u001b[0;32min\u001b[0m \u001b[0mmode\u001b[0m\u001b[0;34m:\u001b[0m\u001b[0;34m\u001b[0m\u001b[0;34m\u001b[0m\u001b[0m\n\u001b[1;32m   1734\u001b[0m                     \u001b[0mmode\u001b[0m \u001b[0;34m+=\u001b[0m \u001b[0;34m\"b\"\u001b[0m\u001b[0;34m\u001b[0m\u001b[0;34m\u001b[0m\u001b[0m\n\u001b[0;32m-> 1735\u001b[0;31m             self.handles = get_handle(\n\u001b[0m\u001b[1;32m   1736\u001b[0m                 \u001b[0mf\u001b[0m\u001b[0;34m,\u001b[0m\u001b[0;34m\u001b[0m\u001b[0;34m\u001b[0m\u001b[0m\n\u001b[1;32m   1737\u001b[0m                 \u001b[0mmode\u001b[0m\u001b[0;34m,\u001b[0m\u001b[0;34m\u001b[0m\u001b[0;34m\u001b[0m\u001b[0m\n",
      "\u001b[0;32m/private/var/containers/Bundle/Application/0FF589E7-F110-405A-A17B-B455DBB3F315/Juno.app/pinned-packages/pandas/io/common.py\u001b[0m in \u001b[0;36mget_handle\u001b[0;34m(path_or_buf, mode, encoding, compression, memory_map, is_text, errors, storage_options)\u001b[0m\n\u001b[1;32m    854\u001b[0m         \u001b[0;32mif\u001b[0m \u001b[0mioargs\u001b[0m\u001b[0;34m.\u001b[0m\u001b[0mencoding\u001b[0m \u001b[0;32mand\u001b[0m \u001b[0;34m\"b\"\u001b[0m \u001b[0;32mnot\u001b[0m \u001b[0;32min\u001b[0m \u001b[0mioargs\u001b[0m\u001b[0;34m.\u001b[0m\u001b[0mmode\u001b[0m\u001b[0;34m:\u001b[0m\u001b[0;34m\u001b[0m\u001b[0;34m\u001b[0m\u001b[0m\n\u001b[1;32m    855\u001b[0m             \u001b[0;31m# Encoding\u001b[0m\u001b[0;34m\u001b[0m\u001b[0;34m\u001b[0m\u001b[0m\n\u001b[0;32m--> 856\u001b[0;31m             handle = open(\n\u001b[0m\u001b[1;32m    857\u001b[0m                 \u001b[0mhandle\u001b[0m\u001b[0;34m,\u001b[0m\u001b[0;34m\u001b[0m\u001b[0;34m\u001b[0m\u001b[0m\n\u001b[1;32m    858\u001b[0m                 \u001b[0mioargs\u001b[0m\u001b[0;34m.\u001b[0m\u001b[0mmode\u001b[0m\u001b[0;34m,\u001b[0m\u001b[0;34m\u001b[0m\u001b[0;34m\u001b[0m\u001b[0m\n",
      "\u001b[0;31mFileNotFoundError\u001b[0m: [Errno 2] No such file or directory: '../DATA/bestsellers.csv'"
     ]
    }
   ]
  },
  {
   "metadata": {},
   "id": "a364d69f",
   "cell_type": "markdown",
   "source": "## Find the lowest User Rating in the DF"
  },
  {
   "metadata": {
    "trusted": false
   },
   "id": "a0e2b758",
   "cell_type": "code",
   "source": "bestsellers.min()",
   "execution_count": 3,
   "outputs": [
    {
     "output_type": "execute_result",
     "execution_count": 3,
     "data": {
      "text/plain": "Name           10-Day Green Smoothie Cleanse\nAuthor                      Abraham Verghese\nUser Rating                              3.3\nReviews                                   37\nPrice                                      0\nYear                                    2009\nGenre                                Fiction\ndtype: object"
     },
     "metadata": {}
    }
   ]
  },
  {
   "metadata": {},
   "id": "a845f897",
   "cell_type": "markdown",
   "source": "## Find the highest Price in the DF"
  },
  {
   "metadata": {
    "trusted": false
   },
   "id": "5a7946f4",
   "cell_type": "code",
   "source": "bestsellers.max()",
   "execution_count": 4,
   "outputs": [
    {
     "output_type": "execute_result",
     "execution_count": 4,
     "data": {
      "text/plain": "Name           You Are a Badass: How to Stop Doubting Your Gr...\nAuthor                                              Zhi Gang Sha\nUser Rating                                                  4.9\nReviews                                                    87841\nPrice                                                        105\nYear                                                        2019\nGenre                                                Non Fiction\ndtype: object"
     },
     "metadata": {}
    }
   ]
  },
  {
   "metadata": {},
   "id": "9b8af158",
   "cell_type": "markdown",
   "source": "## What is the average User Rating?"
  },
  {
   "metadata": {
    "trusted": false
   },
   "id": "474eb55c",
   "cell_type": "code",
   "source": "bestsellers.describe()",
   "execution_count": 5,
   "outputs": [
    {
     "output_type": "execute_result",
     "execution_count": 5,
     "data": {
      "text/plain": "       User Rating       Reviews       Price         Year\ncount   550.000000    550.000000  550.000000   550.000000\nmean      4.618364  11953.281818   13.100000  2014.000000\nstd       0.226980  11731.132017   10.842262     3.165156\nmin       3.300000     37.000000    0.000000  2009.000000\n25%       4.500000   4058.000000    7.000000  2011.000000\n50%       4.700000   8580.000000   11.000000  2014.000000\n75%       4.800000  17253.250000   16.000000  2017.000000\nmax       4.900000  87841.000000  105.000000  2019.000000",
      "text/html": "<div>\n<style scoped>\n    .dataframe tbody tr th:only-of-type {\n        vertical-align: middle;\n    }\n\n    .dataframe tbody tr th {\n        vertical-align: top;\n    }\n\n    .dataframe thead th {\n        text-align: right;\n    }\n</style>\n<table border=\"1\" class=\"dataframe\">\n  <thead>\n    <tr style=\"text-align: right;\">\n      <th></th>\n      <th>User Rating</th>\n      <th>Reviews</th>\n      <th>Price</th>\n      <th>Year</th>\n    </tr>\n  </thead>\n  <tbody>\n    <tr>\n      <th>count</th>\n      <td>550.000000</td>\n      <td>550.000000</td>\n      <td>550.000000</td>\n      <td>550.000000</td>\n    </tr>\n    <tr>\n      <th>mean</th>\n      <td>4.618364</td>\n      <td>11953.281818</td>\n      <td>13.100000</td>\n      <td>2014.000000</td>\n    </tr>\n    <tr>\n      <th>std</th>\n      <td>0.226980</td>\n      <td>11731.132017</td>\n      <td>10.842262</td>\n      <td>3.165156</td>\n    </tr>\n    <tr>\n      <th>min</th>\n      <td>3.300000</td>\n      <td>37.000000</td>\n      <td>0.000000</td>\n      <td>2009.000000</td>\n    </tr>\n    <tr>\n      <th>25%</th>\n      <td>4.500000</td>\n      <td>4058.000000</td>\n      <td>7.000000</td>\n      <td>2011.000000</td>\n    </tr>\n    <tr>\n      <th>50%</th>\n      <td>4.700000</td>\n      <td>8580.000000</td>\n      <td>11.000000</td>\n      <td>2014.000000</td>\n    </tr>\n    <tr>\n      <th>75%</th>\n      <td>4.800000</td>\n      <td>17253.250000</td>\n      <td>16.000000</td>\n      <td>2017.000000</td>\n    </tr>\n    <tr>\n      <th>max</th>\n      <td>4.900000</td>\n      <td>87841.000000</td>\n      <td>105.000000</td>\n      <td>2019.000000</td>\n    </tr>\n  </tbody>\n</table>\n</div>"
     },
     "metadata": {}
    }
   ]
  },
  {
   "metadata": {},
   "id": "a1bcee54",
   "cell_type": "markdown",
   "source": "## What's the average User Rating of the first 5 rows?"
  },
  {
   "metadata": {
    "trusted": false
   },
   "id": "540378fd",
   "cell_type": "code",
   "source": "bestsellers.head().mean(numeric_only=True)",
   "execution_count": 6,
   "outputs": [
    {
     "output_type": "execute_result",
     "execution_count": 6,
     "data": {
      "text/plain": "User Rating        4.7\nReviews        13494.0\nPrice             12.6\nYear            2016.2\ndtype: float64"
     },
     "metadata": {}
    }
   ]
  },
  {
   "metadata": {},
   "id": "7f63ac82",
   "cell_type": "markdown",
   "source": "## What User Review score appeared the most?"
  },
  {
   "metadata": {
    "trusted": false
   },
   "id": "4f3f74e7",
   "cell_type": "code",
   "source": "bestsellers.mode()",
   "execution_count": 7,
   "outputs": [
    {
     "output_type": "execute_result",
     "execution_count": 7,
     "data": {
      "text/plain": "                                                 Name       Author  \\\n0   Publication Manual of the American Psychologic...  Jeff Kinney   \n1                                                 NaN          NaN   \n2                                                 NaN          NaN   \n3                                                 NaN          NaN   \n4                                                 NaN          NaN   \n5                                                 NaN          NaN   \n6                                                 NaN          NaN   \n7                                                 NaN          NaN   \n8                                                 NaN          NaN   \n9                                                 NaN          NaN   \n10                                                NaN          NaN   \n\n    User Rating  Reviews  Price  Year        Genre  \n0           4.8   8580.0    8.0  2009  Non Fiction  \n1           NaN      NaN    NaN  2010          NaN  \n2           NaN      NaN    NaN  2011          NaN  \n3           NaN      NaN    NaN  2012          NaN  \n4           NaN      NaN    NaN  2013          NaN  \n5           NaN      NaN    NaN  2014          NaN  \n6           NaN      NaN    NaN  2015          NaN  \n7           NaN      NaN    NaN  2016          NaN  \n8           NaN      NaN    NaN  2017          NaN  \n9           NaN      NaN    NaN  2018          NaN  \n10          NaN      NaN    NaN  2019          NaN  ",
      "text/html": "<div>\n<style scoped>\n    .dataframe tbody tr th:only-of-type {\n        vertical-align: middle;\n    }\n\n    .dataframe tbody tr th {\n        vertical-align: top;\n    }\n\n    .dataframe thead th {\n        text-align: right;\n    }\n</style>\n<table border=\"1\" class=\"dataframe\">\n  <thead>\n    <tr style=\"text-align: right;\">\n      <th></th>\n      <th>Name</th>\n      <th>Author</th>\n      <th>User Rating</th>\n      <th>Reviews</th>\n      <th>Price</th>\n      <th>Year</th>\n      <th>Genre</th>\n    </tr>\n  </thead>\n  <tbody>\n    <tr>\n      <th>0</th>\n      <td>Publication Manual of the American Psychologic...</td>\n      <td>Jeff Kinney</td>\n      <td>4.8</td>\n      <td>8580.0</td>\n      <td>8.0</td>\n      <td>2009</td>\n      <td>Non Fiction</td>\n    </tr>\n    <tr>\n      <th>1</th>\n      <td>NaN</td>\n      <td>NaN</td>\n      <td>NaN</td>\n      <td>NaN</td>\n      <td>NaN</td>\n      <td>2010</td>\n      <td>NaN</td>\n    </tr>\n    <tr>\n      <th>2</th>\n      <td>NaN</td>\n      <td>NaN</td>\n      <td>NaN</td>\n      <td>NaN</td>\n      <td>NaN</td>\n      <td>2011</td>\n      <td>NaN</td>\n    </tr>\n    <tr>\n      <th>3</th>\n      <td>NaN</td>\n      <td>NaN</td>\n      <td>NaN</td>\n      <td>NaN</td>\n      <td>NaN</td>\n      <td>2012</td>\n      <td>NaN</td>\n    </tr>\n    <tr>\n      <th>4</th>\n      <td>NaN</td>\n      <td>NaN</td>\n      <td>NaN</td>\n      <td>NaN</td>\n      <td>NaN</td>\n      <td>2013</td>\n      <td>NaN</td>\n    </tr>\n    <tr>\n      <th>5</th>\n      <td>NaN</td>\n      <td>NaN</td>\n      <td>NaN</td>\n      <td>NaN</td>\n      <td>NaN</td>\n      <td>2014</td>\n      <td>NaN</td>\n    </tr>\n    <tr>\n      <th>6</th>\n      <td>NaN</td>\n      <td>NaN</td>\n      <td>NaN</td>\n      <td>NaN</td>\n      <td>NaN</td>\n      <td>2015</td>\n      <td>NaN</td>\n    </tr>\n    <tr>\n      <th>7</th>\n      <td>NaN</td>\n      <td>NaN</td>\n      <td>NaN</td>\n      <td>NaN</td>\n      <td>NaN</td>\n      <td>2016</td>\n      <td>NaN</td>\n    </tr>\n    <tr>\n      <th>8</th>\n      <td>NaN</td>\n      <td>NaN</td>\n      <td>NaN</td>\n      <td>NaN</td>\n      <td>NaN</td>\n      <td>2017</td>\n      <td>NaN</td>\n    </tr>\n    <tr>\n      <th>9</th>\n      <td>NaN</td>\n      <td>NaN</td>\n      <td>NaN</td>\n      <td>NaN</td>\n      <td>NaN</td>\n      <td>2018</td>\n      <td>NaN</td>\n    </tr>\n    <tr>\n      <th>10</th>\n      <td>NaN</td>\n      <td>NaN</td>\n      <td>NaN</td>\n      <td>NaN</td>\n      <td>NaN</td>\n      <td>2019</td>\n      <td>NaN</td>\n    </tr>\n  </tbody>\n</table>\n</div>"
     },
     "metadata": {}
    }
   ]
  },
  {
   "metadata": {},
   "id": "37d96c06",
   "cell_type": "markdown",
   "source": "## What is the total (sum) of all the values in the Reviews column?"
  },
  {
   "metadata": {
    "trusted": false
   },
   "id": "d2521288",
   "cell_type": "code",
   "source": "bestsellers.sum()",
   "execution_count": 8,
   "outputs": [
    {
     "output_type": "execute_result",
     "execution_count": 8,
     "data": {
      "text/plain": "Name           10-Day Green Smoothie Cleanse11/22/63: A Novel...\nAuthor         JJ SmithStephen KingJordan B. PetersonGeorge O...\nUser Rating                                               2540.1\nReviews                                                  6574305\nPrice                                                       7205\nYear                                                     1107700\nGenre          Non FictionFictionNon FictionFictionNon Fictio...\ndtype: object"
     },
     "metadata": {}
    }
   ]
  },
  {
   "metadata": {},
   "id": "d23c8293",
   "cell_type": "markdown",
   "source": "## How many different authors are featured in the dataset?"
  },
  {
   "metadata": {
    "trusted": false
   },
   "id": "58489144",
   "cell_type": "code",
   "source": "bestsellers.describe(include=[\"O\"])",
   "execution_count": 9,
   "outputs": [
    {
     "output_type": "execute_result",
     "execution_count": 9,
     "data": {
      "text/plain": "                                                     Name       Author  \\\ncount                                                 550          550   \nunique                                                351          248   \ntop     Publication Manual of the American Psychologic...  Jeff Kinney   \nfreq                                                   10           12   \n\n              Genre  \ncount           550  \nunique            2  \ntop     Non Fiction  \nfreq            310  ",
      "text/html": "<div>\n<style scoped>\n    .dataframe tbody tr th:only-of-type {\n        vertical-align: middle;\n    }\n\n    .dataframe tbody tr th {\n        vertical-align: top;\n    }\n\n    .dataframe thead th {\n        text-align: right;\n    }\n</style>\n<table border=\"1\" class=\"dataframe\">\n  <thead>\n    <tr style=\"text-align: right;\">\n      <th></th>\n      <th>Name</th>\n      <th>Author</th>\n      <th>Genre</th>\n    </tr>\n  </thead>\n  <tbody>\n    <tr>\n      <th>count</th>\n      <td>550</td>\n      <td>550</td>\n      <td>550</td>\n    </tr>\n    <tr>\n      <th>unique</th>\n      <td>351</td>\n      <td>248</td>\n      <td>2</td>\n    </tr>\n    <tr>\n      <th>top</th>\n      <td>Publication Manual of the American Psychologic...</td>\n      <td>Jeff Kinney</td>\n      <td>Non Fiction</td>\n    </tr>\n    <tr>\n      <th>freq</th>\n      <td>10</td>\n      <td>12</td>\n      <td>310</td>\n    </tr>\n  </tbody>\n</table>\n</div>"
     },
     "metadata": {}
    }
   ]
  },
  {
   "metadata": {},
   "id": "95f3b150",
   "cell_type": "markdown",
   "source": "## Which author wrote the most number of books on the list? How many did they write?"
  },
  {
   "metadata": {
    "trusted": false
   },
   "id": "8b1e448e",
   "cell_type": "code",
   "source": "bestsellers.describe(include=[\"O\"])",
   "execution_count": 10,
   "outputs": [
    {
     "output_type": "execute_result",
     "execution_count": 10,
     "data": {
      "text/plain": "                                                     Name       Author  \\\ncount                                                 550          550   \nunique                                                351          248   \ntop     Publication Manual of the American Psychologic...  Jeff Kinney   \nfreq                                                   10           12   \n\n              Genre  \ncount           550  \nunique            2  \ntop     Non Fiction  \nfreq            310  ",
      "text/html": "<div>\n<style scoped>\n    .dataframe tbody tr th:only-of-type {\n        vertical-align: middle;\n    }\n\n    .dataframe tbody tr th {\n        vertical-align: top;\n    }\n\n    .dataframe thead th {\n        text-align: right;\n    }\n</style>\n<table border=\"1\" class=\"dataframe\">\n  <thead>\n    <tr style=\"text-align: right;\">\n      <th></th>\n      <th>Name</th>\n      <th>Author</th>\n      <th>Genre</th>\n    </tr>\n  </thead>\n  <tbody>\n    <tr>\n      <th>count</th>\n      <td>550</td>\n      <td>550</td>\n      <td>550</td>\n    </tr>\n    <tr>\n      <th>unique</th>\n      <td>351</td>\n      <td>248</td>\n      <td>2</td>\n    </tr>\n    <tr>\n      <th>top</th>\n      <td>Publication Manual of the American Psychologic...</td>\n      <td>Jeff Kinney</td>\n      <td>Non Fiction</td>\n    </tr>\n    <tr>\n      <th>freq</th>\n      <td>10</td>\n      <td>12</td>\n      <td>310</td>\n    </tr>\n  </tbody>\n</table>\n</div>"
     },
     "metadata": {}
    }
   ]
  }
 ],
 "metadata": {
  "kernelspec": {
   "name": "python3",
   "display_name": "Python 3",
   "language": "python"
  },
  "language_info": {
   "name": "python",
   "version": "3.10.4",
   "mimetype": "text/x-python",
   "codemirror_mode": {
    "name": "ipython",
    "version": 3
   },
   "pygments_lexer": "ipython3",
   "nbconvert_exporter": "python",
   "file_extension": ".py"
  }
 },
 "nbformat": 4,
 "nbformat_minor": 5
}