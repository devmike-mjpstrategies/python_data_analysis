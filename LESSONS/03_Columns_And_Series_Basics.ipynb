{
 "cells": [
  {
   "cell_type": "markdown",
   "id": "5cbd3b77",
   "metadata": {},
   "source": [
    "# Pandas Columns & Series"
   ]
  },
  {
   "cell_type": "code",
   "execution_count": 1,
   "id": "55442354",
   "metadata": {},
   "outputs": [],
   "source": [
    "# Read in some datasets to work with!\n",
    "import pandas as pd\n",
    "houses = pd.read_csv(\"../DATA/kc_house_data.csv\")\n",
    "titanic = pd.read_csv(\"../DATA/titanic.csv\")\n",
    "netflix = pd.read_csv(\"../DATA/netflix_titles.csv\", sep=\"|\", index_col=0)"
   ]
  },
  {
   "cell_type": "code",
   "execution_count": null,
   "id": "dad82ab7",
   "metadata": {},
   "outputs": [],
   "source": [
    "titanic.head()"
   ]
  },
  {
   "cell_type": "code",
   "execution_count": null,
   "id": "26693eaa",
   "metadata": {},
   "outputs": [],
   "source": [
    "titanic.name"
   ]
  },
  {
   "cell_type": "code",
   "execution_count": null,
   "id": "82433161",
   "metadata": {},
   "outputs": [],
   "source": [
    "titanic['name']"
   ]
  },
  {
   "cell_type": "code",
   "execution_count": null,
   "id": "412eb082",
   "metadata": {},
   "outputs": [],
   "source": [
    "titanic.age"
   ]
  },
  {
   "cell_type": "code",
   "execution_count": null,
   "id": "82a0b702",
   "metadata": {},
   "outputs": [],
   "source": [
    "titanic[\"age\"]"
   ]
  },
  {
   "cell_type": "code",
   "execution_count": null,
   "id": "fa5fa397",
   "metadata": {},
   "outputs": [],
   "source": [
    "titanic[\"home.dest\"]"
   ]
  },
  {
   "cell_type": "code",
   "execution_count": null,
   "id": "a0355949",
   "metadata": {},
   "outputs": [],
   "source": [
    "mystery_col = \"price\""
   ]
  },
  {
   "cell_type": "code",
   "execution_count": null,
   "id": "17f21607",
   "metadata": {},
   "outputs": [],
   "source": [
    "houses[mystery_col]"
   ]
  },
  {
   "cell_type": "code",
   "execution_count": null,
   "id": "2d635b14",
   "metadata": {},
   "outputs": [],
   "source": [
    "titanic"
   ]
  },
  {
   "cell_type": "code",
   "execution_count": null,
   "id": "db7eb917",
   "metadata": {},
   "outputs": [],
   "source": [
    "names = titanic.name\n",
    "type(names)"
   ]
  },
  {
   "cell_type": "code",
   "execution_count": null,
   "id": "2e6b0c74",
   "metadata": {},
   "outputs": [],
   "source": [
    "names"
   ]
  },
  {
   "cell_type": "code",
   "execution_count": null,
   "id": "1efd2936",
   "metadata": {},
   "outputs": [],
   "source": [
    "titanic"
   ]
  },
  {
   "cell_type": "code",
   "execution_count": null,
   "id": "02bdf19f",
   "metadata": {},
   "outputs": [],
   "source": [
    "houses.sum(numeric_only=True)"
   ]
  },
  {
   "cell_type": "code",
   "execution_count": null,
   "id": "ab799f5a",
   "metadata": {},
   "outputs": [],
   "source": [
    "houses.price.sum()"
   ]
  },
  {
   "cell_type": "code",
   "execution_count": null,
   "id": "23a318e4",
   "metadata": {},
   "outputs": [],
   "source": [
    "houses.price.max()"
   ]
  },
  {
   "cell_type": "code",
   "execution_count": null,
   "id": "f6fbb4eb",
   "metadata": {},
   "outputs": [],
   "source": [
    "names.shape"
   ]
  },
  {
   "cell_type": "code",
   "execution_count": null,
   "id": "f61185ab",
   "metadata": {},
   "outputs": [],
   "source": [
    "titanic.shape"
   ]
  },
  {
   "cell_type": "code",
   "execution_count": null,
   "id": "119585c2",
   "metadata": {},
   "outputs": [],
   "source": [
    "names.values"
   ]
  },
  {
   "cell_type": "code",
   "execution_count": null,
   "id": "632afe1a",
   "metadata": {},
   "outputs": [],
   "source": [
    "names.index"
   ]
  },
  {
   "cell_type": "code",
   "execution_count": null,
   "id": "085c41f3",
   "metadata": {},
   "outputs": [],
   "source": [
    "names"
   ]
  },
  {
   "cell_type": "code",
   "execution_count": null,
   "id": "2099b02d",
   "metadata": {},
   "outputs": [],
   "source": [
    "mins = houses.min(numeric_only=True)"
   ]
  },
  {
   "cell_type": "code",
   "execution_count": null,
   "id": "667fb7b7",
   "metadata": {},
   "outputs": [],
   "source": [
    "mins.index"
   ]
  },
  {
   "cell_type": "code",
   "execution_count": null,
   "id": "950761df",
   "metadata": {},
   "outputs": [],
   "source": [
    "mins"
   ]
  },
  {
   "cell_type": "markdown",
   "id": "af48a972",
   "metadata": {},
   "source": [
    "## Important Series Methods\n",
    "\n",
    "* `head()`\n",
    "* `tail()`\n",
    "* `describe()`\n",
    "* `unique()`\n",
    "* `nunique()`\n",
    "* `nlargest()`\n",
    "* `nsmallest()`\n",
    "* `value_counts()`\n",
    "* `plot()` YAY!"
   ]
  },
  {
   "cell_type": "code",
   "execution_count": null,
   "id": "3a310876",
   "metadata": {},
   "outputs": [],
   "source": [
    "titanic.age.head(10)"
   ]
  },
  {
   "cell_type": "code",
   "execution_count": null,
   "id": "5aee8b7f",
   "metadata": {},
   "outputs": [],
   "source": [
    "netflix.title.tail(50)"
   ]
  },
  {
   "cell_type": "code",
   "execution_count": null,
   "id": "ae10f778",
   "metadata": {},
   "outputs": [],
   "source": [
    "houses.describe()"
   ]
  },
  {
   "cell_type": "code",
   "execution_count": null,
   "id": "460ff6e3",
   "metadata": {},
   "outputs": [],
   "source": [
    "houses[\"price\"].describe()"
   ]
  },
  {
   "cell_type": "code",
   "execution_count": null,
   "id": "d13aeb92",
   "metadata": {},
   "outputs": [],
   "source": [
    "netflix[\"rating\"].describe()"
   ]
  },
  {
   "cell_type": "code",
   "execution_count": null,
   "id": "ee6d3375",
   "metadata": {},
   "outputs": [],
   "source": [
    "netflix.dtypes"
   ]
  },
  {
   "cell_type": "code",
   "execution_count": null,
   "id": "1de3c55c",
   "metadata": {},
   "outputs": [],
   "source": [
    "netflix.release_year.describe()"
   ]
  },
  {
   "cell_type": "code",
   "execution_count": null,
   "id": "e4c75df3",
   "metadata": {},
   "outputs": [],
   "source": [
    "titanic.name"
   ]
  },
  {
   "cell_type": "code",
   "execution_count": null,
   "id": "f3439b51",
   "metadata": {},
   "outputs": [],
   "source": [
    "houses[\"bedrooms\"].unique()"
   ]
  },
  {
   "cell_type": "code",
   "execution_count": null,
   "id": "40a9816c",
   "metadata": {},
   "outputs": [],
   "source": [
    "netflix.rating.unique()"
   ]
  },
  {
   "cell_type": "code",
   "execution_count": null,
   "id": "d9b50567",
   "metadata": {},
   "outputs": [],
   "source": [
    "netflix.rating"
   ]
  },
  {
   "cell_type": "code",
   "execution_count": null,
   "id": "6dd0ed22",
   "metadata": {},
   "outputs": [],
   "source": [
    "netflix.rating.nunique()"
   ]
  },
  {
   "cell_type": "code",
   "execution_count": null,
   "id": "321c0042",
   "metadata": {},
   "outputs": [],
   "source": [
    "houses.zipcode.nunique()"
   ]
  },
  {
   "cell_type": "code",
   "execution_count": null,
   "id": "82631ea8",
   "metadata": {},
   "outputs": [],
   "source": [
    "netflix.info()"
   ]
  },
  {
   "cell_type": "code",
   "execution_count": null,
   "id": "7fb4d4d8",
   "metadata": {},
   "outputs": [],
   "source": [
    "netflix.head()"
   ]
  },
  {
   "cell_type": "code",
   "execution_count": null,
   "id": "b041bf05",
   "metadata": {},
   "outputs": [],
   "source": [
    "netflix.rating.nunique(dropna=False)"
   ]
  },
  {
   "cell_type": "code",
   "execution_count": null,
   "id": "0129cfcc",
   "metadata": {},
   "outputs": [],
   "source": [
    "netflix.rating.nunique()"
   ]
  },
  {
   "cell_type": "code",
   "execution_count": null,
   "id": "3d19b96e",
   "metadata": {},
   "outputs": [],
   "source": [
    "houses.price.nlargest(9)"
   ]
  },
  {
   "cell_type": "code",
   "execution_count": null,
   "id": "e16fcaf1",
   "metadata": {},
   "outputs": [],
   "source": [
    "houses.price.nsmallest(10)"
   ]
  },
  {
   "cell_type": "code",
   "execution_count": null,
   "id": "a7f11d54",
   "metadata": {},
   "outputs": [],
   "source": [
    "titanic.pclass.nlargest(5, keep=\"all\")"
   ]
  },
  {
   "cell_type": "code",
   "execution_count": null,
   "id": "9eb743fe",
   "metadata": {},
   "outputs": [],
   "source": [
    "houses.nlargest(10,[\"price\"])"
   ]
  },
  {
   "cell_type": "code",
   "execution_count": null,
   "id": "ad18cc08",
   "metadata": {},
   "outputs": [],
   "source": [
    "houses.nlargest(10, [\"bedrooms\"])"
   ]
  },
  {
   "cell_type": "code",
   "execution_count": null,
   "id": "2c7b95be",
   "metadata": {},
   "outputs": [],
   "source": [
    "houses.nlargest(10, [\"bedrooms\", \"bathrooms\"])"
   ]
  },
  {
   "cell_type": "code",
   "execution_count": null,
   "id": "b47fcc8e",
   "metadata": {},
   "outputs": [],
   "source": [
    "houses.nsmallest(10, [\"sqft_lot\"])"
   ]
  },
  {
   "cell_type": "code",
   "execution_count": null,
   "id": "0a5df39f",
   "metadata": {},
   "outputs": [],
   "source": [
    "netflix[[\"title\", \"rating\"]].tail(10)"
   ]
  },
  {
   "cell_type": "code",
   "execution_count": null,
   "id": "2c5e19e8",
   "metadata": {},
   "outputs": [],
   "source": [
    "houses[[\"price\", \"bedrooms\", \"bathrooms\"]].describe()"
   ]
  },
  {
   "cell_type": "code",
   "execution_count": null,
   "id": "fd3f5b39",
   "metadata": {},
   "outputs": [],
   "source": [
    "houses"
   ]
  },
  {
   "cell_type": "code",
   "execution_count": null,
   "id": "aa0ae232",
   "metadata": {},
   "outputs": [],
   "source": [
    "cols = [\"price\", \"zipcode\", \"sqft_lot\"]\n",
    "houses[cols]"
   ]
  },
  {
   "cell_type": "code",
   "execution_count": null,
   "id": "3b5e046a",
   "metadata": {},
   "outputs": [],
   "source": [
    "houses[\"bedrooms\"]"
   ]
  },
  {
   "cell_type": "code",
   "execution_count": null,
   "id": "7984e0af",
   "metadata": {},
   "outputs": [],
   "source": [
    "houses[\"bedrooms\"].value_counts()"
   ]
  },
  {
   "cell_type": "code",
   "execution_count": null,
   "id": "1d57898d",
   "metadata": {},
   "outputs": [],
   "source": [
    "titanic.sex.value_counts()"
   ]
  },
  {
   "cell_type": "code",
   "execution_count": null,
   "id": "9516abd5",
   "metadata": {},
   "outputs": [],
   "source": [
    "netflix.director.value_counts().head(10)"
   ]
  },
  {
   "cell_type": "code",
   "execution_count": null,
   "id": "de70caf1",
   "metadata": {},
   "outputs": [],
   "source": [
    "netflix.director.value_counts(ascending=True)"
   ]
  },
  {
   "cell_type": "code",
   "execution_count": null,
   "id": "8819bbc3",
   "metadata": {},
   "outputs": [],
   "source": [
    "houses[\"floors\"].value_counts()"
   ]
  },
  {
   "cell_type": "code",
   "execution_count": null,
   "id": "71a789dc",
   "metadata": {},
   "outputs": [],
   "source": [
    "houses[[\"bedrooms\", \"bathrooms\"]]"
   ]
  },
  {
   "cell_type": "code",
   "execution_count": null,
   "id": "782ab1ee",
   "metadata": {},
   "outputs": [],
   "source": [
    "houses[[\"bedrooms\", \"bathrooms\"]].value_counts()"
   ]
  },
  {
   "cell_type": "code",
   "execution_count": null,
   "id": "7e8e20c0",
   "metadata": {},
   "outputs": [],
   "source": [
    "type(houses[[\"bedrooms\", \"bathrooms\"]].value_counts())"
   ]
  },
  {
   "cell_type": "code",
   "execution_count": null,
   "id": "f7b475ea",
   "metadata": {},
   "outputs": [],
   "source": [
    "houses.bedrooms"
   ]
  },
  {
   "cell_type": "markdown",
   "id": "17998c28",
   "metadata": {},
   "source": [
    "## Plotting Intro!"
   ]
  },
  {
   "cell_type": "code",
   "execution_count": null,
   "id": "335b0720",
   "metadata": {},
   "outputs": [],
   "source": [
    "houses.bedrooms.plot()"
   ]
  },
  {
   "cell_type": "code",
   "execution_count": null,
   "id": "66696326",
   "metadata": {},
   "outputs": [],
   "source": [
    "houses.bedrooms.value_counts().plot()"
   ]
  },
  {
   "cell_type": "code",
   "execution_count": null,
   "id": "18bcdddf",
   "metadata": {},
   "outputs": [],
   "source": [
    "houses.bedrooms.value_counts().plot(kind=\"bar\")"
   ]
  },
  {
   "cell_type": "code",
   "execution_count": null,
   "id": "30906d7b",
   "metadata": {},
   "outputs": [],
   "source": [
    "houses.bedrooms.value_counts().plot(kind=\"pie\")"
   ]
  },
  {
   "cell_type": "code",
   "execution_count": null,
   "id": "c8974ef3",
   "metadata": {},
   "outputs": [],
   "source": [
    "titanic.survived.value_counts().plot(kind=\"pie\")"
   ]
  },
  {
   "cell_type": "code",
   "execution_count": null,
   "id": "c0686f89",
   "metadata": {},
   "outputs": [],
   "source": [
    "titanic.sex.value_counts().plot(kind=\"pie\")"
   ]
  },
  {
   "cell_type": "code",
   "execution_count": null,
   "id": "ea6cdda7",
   "metadata": {},
   "outputs": [],
   "source": [
    "houses.plot()"
   ]
  },
  {
   "cell_type": "code",
   "execution_count": null,
   "id": "d6290694",
   "metadata": {},
   "outputs": [],
   "source": [
    "houses[[\"bedrooms\", \"bathrooms\"]].plot()"
   ]
  },
  {
   "cell_type": "code",
   "execution_count": null,
   "id": "cb3d5819",
   "metadata": {},
   "outputs": [],
   "source": [
    "df = houses[[\"bedrooms\", \"bathrooms\"]]\n",
    "df.plot(kind=\"scatter\", x=\"bedrooms\", y=\"bathrooms\")"
   ]
  },
  {
   "cell_type": "code",
   "execution_count": null,
   "id": "35d75e90",
   "metadata": {},
   "outputs": [],
   "source": [
    "netflix.rating.value_counts().head(10).plot(kind=\"bar\")"
   ]
  },
  {
   "cell_type": "code",
   "execution_count": null,
   "id": "b771e961",
   "metadata": {},
   "outputs": [],
   "source": []
  },
  {
   "cell_type": "code",
   "execution_count": null,
   "id": "2693d85f",
   "metadata": {},
   "outputs": [],
   "source": []
  }
 ],
 "metadata": {
  "kernelspec": {
   "display_name": "Python 3",
   "language": "python",
   "name": "python3"
  },
  "language_info": {
   "codemirror_mode": {
    "name": "ipython",
    "version": 3
   },
   "file_extension": ".py",
   "mimetype": "text/x-python",
   "name": "python",
   "nbconvert_exporter": "python",
   "pygments_lexer": "ipython3",
   "version": "3.12.1"
  }
 },
 "nbformat": 4,
 "nbformat_minor": 5
}
