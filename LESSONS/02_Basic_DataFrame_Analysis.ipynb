{
 "cells": [
  {
   "cell_type": "markdown",
   "id": "fef95fff",
   "metadata": {},
   "source": [
    "# Basic DataFrame Analysis \n",
    "\n",
    "* `sum`\n",
    "* `min`\n",
    "* `max`\n",
    "* `median`\n",
    "* `mean`\n",
    "* `count`\n",
    "* `describe`"
   ]
  },
  {
   "cell_type": "code",
   "execution_count": null,
   "id": "8be291e4",
   "metadata": {},
   "outputs": [],
   "source": [
    "import pandas as pd\n",
    "houses = pd.read_csv(\"data/kc_house_data.csv\")\n",
    "houses"
   ]
  },
  {
   "cell_type": "code",
   "execution_count": null,
   "id": "93b09677",
   "metadata": {},
   "outputs": [],
   "source": [
    "houses.min()"
   ]
  },
  {
   "cell_type": "code",
   "execution_count": null,
   "id": "cd14589a",
   "metadata": {},
   "outputs": [],
   "source": [
    "houses.max()"
   ]
  },
  {
   "cell_type": "code",
   "execution_count": null,
   "id": "c58eea89",
   "metadata": {},
   "outputs": [],
   "source": [
    "type(houses.max())"
   ]
  },
  {
   "cell_type": "code",
   "execution_count": null,
   "id": "5915594f",
   "metadata": {},
   "outputs": [],
   "source": [
    "houses.sum()"
   ]
  },
  {
   "cell_type": "code",
   "execution_count": null,
   "id": "212ee04a",
   "metadata": {},
   "outputs": [],
   "source": [
    "houses.sum(numeric_only=True)"
   ]
  },
  {
   "cell_type": "code",
   "execution_count": null,
   "id": "37d41901",
   "metadata": {},
   "outputs": [],
   "source": [
    "titanic = pd.read_csv(\"data/titanic.csv\")\n",
    "titanic.head()"
   ]
  },
  {
   "cell_type": "code",
   "execution_count": null,
   "id": "75b87384",
   "metadata": {},
   "outputs": [],
   "source": [
    "titanic.sum()"
   ]
  },
  {
   "cell_type": "code",
   "execution_count": null,
   "id": "eb13c38a",
   "metadata": {},
   "outputs": [],
   "source": [
    "titanic.sum(numeric_only=True)"
   ]
  },
  {
   "cell_type": "code",
   "execution_count": null,
   "id": "8a23f82d",
   "metadata": {},
   "outputs": [],
   "source": [
    "names = ['sumlev', 'region', 'division', 'state', 'name', 'census2010pop', 'estimatesbase2010', 'popestimate2010', 'popestimate2011', 'popestimate2012', 'popestimate2013', 'popestimate2014', 'popestimate2015', 'popestimate2016', 'popestimate2017', 'popestimate2018', 'popestimate2019', 'popestimate042020', 'popestimate2020']\n",
    "state_pops = pd.read_csv(\"data/nst-est2020.csv\", names=names, header=0)\n",
    "state_pops"
   ]
  },
  {
   "cell_type": "code",
   "execution_count": null,
   "id": "f3462f47",
   "metadata": {},
   "outputs": [],
   "source": [
    "state_pops.tail(52).head(51).sum(numeric_only=True)"
   ]
  },
  {
   "cell_type": "code",
   "execution_count": null,
   "id": "f05198f5",
   "metadata": {},
   "outputs": [],
   "source": [
    "netflix = pd.read_csv(\"data/netflix_titles.csv\", sep=\"|\", index_col=0)"
   ]
  },
  {
   "cell_type": "code",
   "execution_count": null,
   "id": "6afd7650",
   "metadata": {},
   "outputs": [],
   "source": [
    "netflix.head()"
   ]
  },
  {
   "cell_type": "code",
   "execution_count": null,
   "id": "f0d8efd8",
   "metadata": {},
   "outputs": [],
   "source": [
    "netflix.count()"
   ]
  },
  {
   "cell_type": "code",
   "execution_count": null,
   "id": "ddbba1e3",
   "metadata": {},
   "outputs": [],
   "source": [
    "houses.mean()"
   ]
  },
  {
   "cell_type": "code",
   "execution_count": null,
   "id": "5276be66",
   "metadata": {},
   "outputs": [],
   "source": [
    "titanic.mean()"
   ]
  },
  {
   "cell_type": "code",
   "execution_count": null,
   "id": "7d7b97e4",
   "metadata": {},
   "outputs": [],
   "source": [
    "houses.median()"
   ]
  },
  {
   "cell_type": "code",
   "execution_count": null,
   "id": "a2016052",
   "metadata": {},
   "outputs": [],
   "source": [
    "titanic.median()"
   ]
  },
  {
   "cell_type": "code",
   "execution_count": null,
   "id": "c2fd94ea",
   "metadata": {},
   "outputs": [],
   "source": [
    "titanic.mode(numeric_only=True)"
   ]
  },
  {
   "cell_type": "code",
   "execution_count": null,
   "id": "a56f0ce3",
   "metadata": {},
   "outputs": [],
   "source": [
    "titanic.describe()"
   ]
  },
  {
   "cell_type": "code",
   "execution_count": null,
   "id": "6d82d448",
   "metadata": {},
   "outputs": [],
   "source": [
    "houses.describe()"
   ]
  },
  {
   "cell_type": "code",
   "execution_count": null,
   "id": "364ad450",
   "metadata": {},
   "outputs": [],
   "source": [
    "titanic.info()"
   ]
  },
  {
   "cell_type": "code",
   "execution_count": null,
   "id": "2d479120",
   "metadata": {},
   "outputs": [],
   "source": [
    "titanic.describe(include=[\"object\"])"
   ]
  },
  {
   "cell_type": "code",
   "execution_count": null,
   "id": "d1a3157f",
   "metadata": {},
   "outputs": [],
   "source": [
    "titanic.describe(include=[\"O\"])"
   ]
  },
  {
   "cell_type": "code",
   "execution_count": null,
   "id": "47c4f812",
   "metadata": {},
   "outputs": [],
   "source": [
    "titanic.describe(include=\"O\")"
   ]
  },
  {
   "cell_type": "code",
   "execution_count": null,
   "id": "9aeb3f87",
   "metadata": {
    "scrolled": true
   },
   "outputs": [],
   "source": [
    "netflix.describe(include=\"O\")"
   ]
  }
 ],
 "metadata": {
  "kernelspec": {
   "display_name": "Python 3",
   "language": "python",
   "name": "python3"
  },
  "language_info": {
   "codemirror_mode": {
    "name": "ipython",
    "version": 3
   },
   "file_extension": ".py",
   "mimetype": "text/x-python",
   "name": "python",
   "nbconvert_exporter": "python",
   "pygments_lexer": "ipython3",
   "version": "3.12.1"
  }
 },
 "nbformat": 4,
 "nbformat_minor": 5
}
